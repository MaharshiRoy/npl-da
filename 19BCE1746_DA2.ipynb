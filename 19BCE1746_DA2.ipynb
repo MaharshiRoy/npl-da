{
  "cells": [
    {
      "cell_type": "markdown",
      "metadata": {
        "id": "VDvhEfgd0vWk"
      },
      "source": [
        "# **CSE4022 Natural Language Processing**\n",
        "\n",
        "**Submitted by:- MAHARSHI ROY (19BCE1746)**"
      ]
    },
    {
      "cell_type": "markdown",
      "metadata": {
        "id": "_ghH6hZzqYvl"
      },
      "source": [
        "## **Digital Assignment 2**\n",
        "\n"
      ]
    },
    {
      "cell_type": "markdown",
      "metadata": {
        "id": "pxq6Qexy7wou"
      },
      "source": [
        "# **Question 1**\n",
        "### Create a text corpus with minimum 200 words (unique contents). Implement the following text processing   \n",
        "                                                                                \n",
        "*   Word segmentation\n",
        "*   Sentence segmentation\n",
        "*   Convert to Lowercase\n",
        "*   Stop words removal\n",
        "*   Stemming\n",
        "*   Lemmatization\n",
        "*   Part of speech tagger\n",
        " "
      ]
    },
    {
      "cell_type": "markdown",
      "metadata": {
        "id": "FQujxO_csHMP"
      },
      "source": [
        "### **Solution:**"
      ]
    },
    {
      "cell_type": "code",
      "execution_count": 24,
      "metadata": {
        "colab": {
          "base_uri": "https://localhost:8080/",
          "height": 126
        },
        "id": "u40sz_Ge7_Ir",
        "outputId": "7312455a-f8e2-46f4-c1de-49a4d648622b"
      },
      "outputs": [
        {
          "data": {
            "application/vnd.google.colaboratory.intrinsic+json": {
              "type": "string"
            },
            "text/plain": [
              "\"All of us, at least once in our lives, have experienced our parents hollering at us for sitting idle. When they see us roaming around unnecessarily or sitting without any work, they seemingly ask don't we have better things to do? We always take it as unneeded screaming and fail to realize the deeper meaning it holds. Life spent doing constructive work, is life well spent. The great dramatist Shakespeare rightly observed that life should be measured by deeds, not years. Age is no criterion for the meaning of life. It is the actions, good deeds which give meaning to life and make man immortal. Long life is desired by all, but if one does not do any noble deeds, then such a life has no worth. Great leaders like Mahatma Gandhi, Lal Bahadur Shastri, Abraham Lincoln, Swami Vivekananda, Mother Teresa and many others are remembered even after so many years after their passing. People still take inspiration from their lifestyles and preaching. It is only the great deeds of these leaders that have inspired many generations. A lily flower lives just for a day, but it is remembered for its fragrance and sweetness. Respect is earned by actions and not acquired by years. Existence becomes exciting when it is lived for others or when it does something beneficial to mankind. We generally work for the whole day, earn money and spend it on our needs. These are some common things that all do, but we should all do some noble deeds as well. We should share our smile, advice, cheer, and help with our fellow beings. These things may give them happiness and they may remember us when we are not around. Hence the saying, We live in deeds, not in years, proves to be true.\""
            ]
          },
          "execution_count": 24,
          "metadata": {},
          "output_type": "execute_result"
        }
      ],
      "source": [
        "# Creating the text corpus with 297 words\n",
        "text = \"All of us, at least once in our lives, have experienced our parents hollering at us for sitting idle. When they see us roaming around unnecessarily or sitting without any work, they seemingly ask don't we have better things to do? We always take it as unneeded screaming and fail to realize the deeper meaning it holds. Life spent doing constructive work, is life well spent. The great dramatist Shakespeare rightly observed that life should be measured by deeds, not years. Age is no criterion for the meaning of life. It is the actions, good deeds which give meaning to life and make man immortal. Long life is desired by all, but if one does not do any noble deeds, then such a life has no worth. Great leaders like Mahatma Gandhi, Lal Bahadur Shastri, Abraham Lincoln, Swami Vivekananda, Mother Teresa and many others are remembered even after so many years after their passing. People still take inspiration from their lifestyles and preaching. It is only the great deeds of these leaders that have inspired many generations. A lily flower lives just for a day, but it is remembered for its fragrance and sweetness. Respect is earned by actions and not acquired by years. Existence becomes exciting when it is lived for others or when it does something beneficial to mankind. We generally work for the whole day, earn money and spend it on our needs. These are some common things that all do, but we should all do some noble deeds as well. We should share our smile, advice, cheer, and help with our fellow beings. These things may give them happiness and they may remember us when we are not around. Hence the saying, \"\"We live in deeds, not in years,\"\" proves to be true.\"\n",
        "text"
      ]
    },
    {
      "cell_type": "markdown",
      "metadata": {
        "id": "2PWxxVpJJdF1"
      },
      "source": [
        "### *Word Segmentation*"
      ]
    },
    {
      "cell_type": "code",
      "execution_count": 46,
      "metadata": {
        "colab": {
          "base_uri": "https://localhost:8080/"
        },
        "id": "kK3h0svnF4Gh",
        "outputId": "a46951b9-3331-4fd4-8e92-a0075f8b337b"
      },
      "outputs": [
        {
          "name": "stdout",
          "output_type": "stream",
          "text": [
            "['all', 'of', 'us', 'at', 'least', 'once', 'in', 'our', 'lives', 'have', 'experienced', 'our', 'parents', 'hollering', 'at', 'us', 'for', 'sitting', 'idle', 'when', 'they', 'see', 'us', 'roaming', 'around', 'unnecessarily', 'or', 'sitting', 'without', 'any', 'work', 'they', 'seemingly', 'ask', 'don', 't', 'we', 'have', 'better', 'things', 'to', 'do', 'we', 'always', 'take', 'it', 'as', 'unneeded', 'screaming', 'and', 'fail', 'to', 'realize', 'the', 'deeper', 'meaning', 'it', 'holds', 'life', 'spent', 'doing', 'constructive', 'work', 'is', 'life', 'well', 'spent', 'the', 'great', 'dramatist', 'shakespeare', 'rightly', 'observed', 'that', 'life', 'should', 'be', 'measured', 'by', 'deeds', 'not', 'years', 'age', 'is', 'no', 'criterion', 'for', 'the', 'meaning', 'of', 'life', 'it', 'is', 'the', 'actions', 'good', 'deeds', 'which', 'give', 'meaning', 'to', 'life', 'and', 'make', 'man', 'immortal', 'long', 'life', 'is', 'desired', 'by', 'all', 'but', 'if', 'one', 'does', 'not', 'do', 'any', 'noble', 'deeds', 'then', 'such', 'a', 'life', 'has', 'no', 'worth', 'great', 'leaders', 'like', 'mahatma', 'gandhi', 'lal', 'bahadur', 'shastri', 'abraham', 'lincoln', 'swami', 'vivekananda', 'mother', 'teresa', 'and', 'many', 'others', 'are', 'remembered', 'even', 'after', 'so', 'many', 'years', 'after', 'their', 'passing', 'people', 'still', 'take', 'inspiration', 'from', 'their', 'lifestyles', 'and', 'preaching', 'it', 'is', 'only', 'the', 'great', 'deeds', 'of', 'these', 'leaders', 'that', 'have', 'inspired', 'many', 'generations', 'a', 'lily', 'flower', 'lives', 'just', 'for', 'a', 'day', 'but', 'it', 'is', 'remembered', 'for', 'its', 'fragrance', 'and', 'sweetness', 'respect', 'is', 'earned', 'by', 'actions', 'and', 'not', 'acquired', 'by', 'years', 'existence', 'becomes', 'exciting', 'when', 'it', 'is', 'lived', 'for', 'others', 'or', 'when', 'it', 'does', 'something', 'beneficial', 'to', 'mankind', 'we', 'generally', 'work', 'for', 'the', 'whole', 'day', 'earn', 'money', 'and', 'spend', 'it', 'on', 'our', 'needs', 'these', 'are', 'some', 'common', 'things', 'that', 'all', 'do', 'but', 'we', 'should', 'all', 'do', 'some', 'noble', 'deeds', 'as', 'well', 'we', 'should', 'share', 'our', 'smile', 'advice', 'cheer', 'and', 'help', 'with', 'our', 'fellow', 'beings', 'these', 'things', 'may', 'give', 'them', 'happiness', 'and', 'they', 'may', 'remember', 'us', 'when', 'we', 'are', 'not', 'around', 'hence', 'the', 'saying', 'we', 'live', 'in', 'deeds', 'not', 'in', 'years', 'proves', 'to', 'be', 'true']\n"
          ]
        }
      ],
      "source": [
        "# Word Segmentation (Word Tokenization)\n",
        "from nltk.tokenize import word_tokenize\n",
        "wordsList = word_tokenize(text)\n",
        "print(wordsList)"
      ]
    },
    {
      "cell_type": "markdown",
      "metadata": {
        "id": "GAno9c1EL3wU"
      },
      "source": [
        "### *Sentence Segmentation*"
      ]
    },
    {
      "cell_type": "code",
      "execution_count": null,
      "metadata": {
        "colab": {
          "background_save": true
        },
        "id": "YHZFYaZXMdwA",
        "outputId": "b21ccbec-71ae-4fe9-8951-cf5c920e84ad"
      },
      "outputs": [
        {
          "data": {
            "text/plain": [
              "['All of us, at least once in our lives, have experienced our parents hollering at us for sitting idle.',\n",
              " \"When they see us roaming around unnecessarily or sitting without any work, they seemingly ask don't we have better things to do?\",\n",
              " 'We always take it as unneeded screaming and fail to realize the deeper meaning it holds.',\n",
              " 'Life spent doing constructive work, is life well spent.',\n",
              " 'The great dramatist Shakespeare rightly observed that life should be measured by deeds, not years.',\n",
              " 'Age is no criterion for the meaning of life.',\n",
              " 'It is the actions, good deeds which give meaning to life and make man immortal.',\n",
              " 'Long life is desired by all, but if one does not do any noble deeds, then such a life has no worth.',\n",
              " 'Great leaders like Mahatma Gandhi, Lal Bahadur Shastri, Abraham Lincoln, Swami Vivekananda, Mother Teresa and many others are remembered even after so many years after their passing.',\n",
              " 'People still take inspiration from their lifestyles and preaching.',\n",
              " 'It is only the great deeds of these leaders that have inspired many generations.',\n",
              " 'A lily flower lives just for a day, but it is remembered for its fragrance and sweetness.',\n",
              " 'Respect is earned by actions and not acquired by years.',\n",
              " 'Existence becomes exciting when it is lived for others or when it does something beneficial to mankind.',\n",
              " 'We generally work for the whole day, earn money and spend it on our needs.',\n",
              " 'These are some common things that all do, but we should all do some noble deeds as well.',\n",
              " 'We should share our smile, advice, cheer, and help with our fellow beings.',\n",
              " 'These things may give them happiness and they may remember us when we are not around.',\n",
              " 'Hence the saying, We live in deeds, not in years, proves to be true.']"
            ]
          },
          "execution_count": null,
          "metadata": {},
          "output_type": "execute_result"
        }
      ],
      "source": [
        "# Sentence Segmentation where each sentence is seperated by a comma (,).\n",
        "sent_tokenizer = nltk.data.load('tokenizers/punkt/english.pickle')\n",
        "sents = sent_tokenizer.tokenize(text)\n",
        "sents"
      ]
    },
    {
      "cell_type": "code",
      "execution_count": 27,
      "metadata": {
        "colab": {
          "base_uri": "https://localhost:8080/"
        },
        "id": "dkMkMdmath__",
        "outputId": "2c6a50c5-34f6-4e8e-e8e4-1bffffa60316"
      },
      "outputs": [
        {
          "name": "stdout",
          "output_type": "stream",
          "text": [
            "['All of us, at least once in our lives, have experienced our parents hollering at us for sitting idle.', \"When they see us roaming around unnecessarily or sitting without any work, they seemingly ask don't we have better things to do?\", 'We always take it as unneeded screaming and fail to realize the deeper meaning it holds.', 'Life spent doing constructive work, is life well spent.', 'The great dramatist Shakespeare rightly observed that life should be measured by deeds, not years.', 'Age is no criterion for the meaning of life.', 'It is the actions, good deeds which give meaning to life and make man immortal.', 'Long life is desired by all, but if one does not do any noble deeds, then such a life has no worth.', 'Great leaders like Mahatma Gandhi, Lal Bahadur Shastri, Abraham Lincoln, Swami Vivekananda, Mother Teresa and many others are remembered even after so many years after their passing.', 'People still take inspiration from their lifestyles and preaching.', 'It is only the great deeds of these leaders that have inspired many generations.', 'A lily flower lives just for a day, but it is remembered for its fragrance and sweetness.', 'Respect is earned by actions and not acquired by years.', 'Existence becomes exciting when it is lived for others or when it does something beneficial to mankind.', 'We generally work for the whole day, earn money and spend it on our needs.', 'These are some common things that all do, but we should all do some noble deeds as well.', 'We should share our smile, advice, cheer, and help with our fellow beings.', 'These things may give them happiness and they may remember us when we are not around.', 'Hence the saying, We live in deeds, not in years, proves to be true.']\n"
          ]
        }
      ],
      "source": [
        "# METHOD 2 for Sentence Segmentation\n",
        "from nltk.tokenize import sent_tokenize\n",
        "print(sent_tokenize(text))"
      ]
    },
    {
      "cell_type": "markdown",
      "metadata": {
        "id": "58wCeYRXL8Pa"
      },
      "source": [
        "### *Convert to Lowercase*"
      ]
    },
    {
      "cell_type": "code",
      "execution_count": 30,
      "metadata": {
        "colab": {
          "base_uri": "https://localhost:8080/"
        },
        "id": "22zYva1QMeej",
        "outputId": "f3a9356a-434d-488b-8b73-76e9a7c72992"
      },
      "outputs": [
        {
          "name": "stdout",
          "output_type": "stream",
          "text": [
            "['all', 'of', 'us', 'at', 'least', 'once', 'in', 'our', 'lives', 'have', 'experienced', 'our', 'parents', 'hollering', 'at', 'us', 'for', 'sitting', 'idle', 'when', 'they', 'see', 'us', 'roaming', 'around', 'unnecessarily', 'or', 'sitting', 'without', 'any', 'work', 'they', 'seemingly', 'ask', 'don', 't', 'we', 'have', 'better', 'things', 'to', 'do', 'we', 'always', 'take', 'it', 'as', 'unneeded', 'screaming', 'and', 'fail', 'to', 'realize', 'the', 'deeper', 'meaning', 'it', 'holds', 'life', 'spent', 'doing', 'constructive', 'work', 'is', 'life', 'well', 'spent', 'the', 'great', 'dramatist', 'shakespeare', 'rightly', 'observed', 'that', 'life', 'should', 'be', 'measured', 'by', 'deeds', 'not', 'years', 'age', 'is', 'no', 'criterion', 'for', 'the', 'meaning', 'of', 'life', 'it', 'is', 'the', 'actions', 'good', 'deeds', 'which', 'give', 'meaning', 'to', 'life', 'and', 'make', 'man', 'immortal', 'long', 'life', 'is', 'desired', 'by', 'all', 'but', 'if', 'one', 'does', 'not', 'do', 'any', 'noble', 'deeds', 'then', 'such', 'a', 'life', 'has', 'no', 'worth', 'great', 'leaders', 'like', 'mahatma', 'gandhi', 'lal', 'bahadur', 'shastri', 'abraham', 'lincoln', 'swami', 'vivekananda', 'mother', 'teresa', 'and', 'many', 'others', 'are', 'remembered', 'even', 'after', 'so', 'many', 'years', 'after', 'their', 'passing', 'people', 'still', 'take', 'inspiration', 'from', 'their', 'lifestyles', 'and', 'preaching', 'it', 'is', 'only', 'the', 'great', 'deeds', 'of', 'these', 'leaders', 'that', 'have', 'inspired', 'many', 'generations', 'a', 'lily', 'flower', 'lives', 'just', 'for', 'a', 'day', 'but', 'it', 'is', 'remembered', 'for', 'its', 'fragrance', 'and', 'sweetness', 'respect', 'is', 'earned', 'by', 'actions', 'and', 'not', 'acquired', 'by', 'years', 'existence', 'becomes', 'exciting', 'when', 'it', 'is', 'lived', 'for', 'others', 'or', 'when', 'it', 'does', 'something', 'beneficial', 'to', 'mankind', 'we', 'generally', 'work', 'for', 'the', 'whole', 'day', 'earn', 'money', 'and', 'spend', 'it', 'on', 'our', 'needs', 'these', 'are', 'some', 'common', 'things', 'that', 'all', 'do', 'but', 'we', 'should', 'all', 'do', 'some', 'noble', 'deeds', 'as', 'well', 'we', 'should', 'share', 'our', 'smile', 'advice', 'cheer', 'and', 'help', 'with', 'our', 'fellow', 'beings', 'these', 'things', 'may', 'give', 'them', 'happiness', 'and', 'they', 'may', 'remember', 'us', 'when', 'we', 'are', 'not', 'around', 'hence', 'the', 'saying', 'we', 'live', 'in', 'deeds', 'not', 'in', 'years', 'proves', 'to', 'be', 'true']\n"
          ]
        }
      ],
      "source": [
        "# We want our model to not get confused by seeing the same word with different cases like one starting with capital and one without and interpret both differently. \n",
        "# So we convert all words into the lower case to avoid redundancy in the token list\n",
        "import re\n",
        "text = re.sub(r\"[^a-zA-Z0-9]\", \" \", text.lower())\n",
        "words = text.split()\n",
        "print(words)"
      ]
    },
    {
      "cell_type": "markdown",
      "metadata": {
        "id": "ynVklDwwMHBf"
      },
      "source": [
        "### *Stop Words Removal*"
      ]
    },
    {
      "cell_type": "code",
      "execution_count": 35,
      "metadata": {
        "colab": {
          "base_uri": "https://localhost:8080/"
        },
        "id": "ARMypYY8MfFr",
        "outputId": "7bf3106d-4f25-4059-cfdc-f4a139f5f550"
      },
      "outputs": [
        {
          "name": "stdout",
          "output_type": "stream",
          "text": [
            "['us', 'least', 'lives', 'experienced', 'parents', 'hollering', 'us', 'sitting', 'idle', 'see', 'us', 'roaming', 'around', 'unnecessarily', 'sitting', 'without', 'work', 'seemingly', 'ask', 'better', 'things', 'always', 'take', 'unneeded', 'screaming', 'fail', 'realize', 'deeper', 'meaning', 'holds', 'life', 'spent', 'constructive', 'work', 'life', 'well', 'spent', 'great', 'dramatist', 'shakespeare', 'rightly', 'observed', 'life', 'measured', 'deeds', 'years', 'age', 'criterion', 'meaning', 'life', 'actions', 'good', 'deeds', 'give', 'meaning', 'life', 'make', 'man', 'immortal', 'long', 'life', 'desired', 'one', 'noble', 'deeds', 'life', 'worth', 'great', 'leaders', 'like', 'mahatma', 'gandhi', 'lal', 'bahadur', 'shastri', 'abraham', 'lincoln', 'swami', 'vivekananda', 'mother', 'teresa', 'many', 'others', 'remembered', 'even', 'many', 'years', 'passing', 'people', 'still', 'take', 'inspiration', 'lifestyles', 'preaching', 'great', 'deeds', 'leaders', 'inspired', 'many', 'generations', 'lily', 'flower', 'lives', 'day', 'remembered', 'fragrance', 'sweetness', 'respect', 'earned', 'actions', 'acquired', 'years', 'existence', 'becomes', 'exciting', 'lived', 'others', 'something', 'beneficial', 'mankind', 'generally', 'work', 'whole', 'day', 'earn', 'money', 'spend', 'needs', 'common', 'things', 'noble', 'deeds', 'well', 'share', 'smile', 'advice', 'cheer', 'help', 'fellow', 'beings', 'things', 'may', 'give', 'happiness', 'may', 'remember', 'us', 'around', 'hence', 'saying', 'live', 'deeds', 'years', 'proves', 'true']\n"
          ]
        }
      ],
      "source": [
        "# When we use the features from a text to model, we will encounter a lot of noise. \n",
        "# These are the stop words like the, he, her, etc… which don’t help us and, just be removed before processing for cleaner processing inside the model. \n",
        "# With NLTK we can see all the stop words available in the English language.\n",
        "\n",
        "from nltk.corpus import stopwords\n",
        "# Remove stop words\n",
        "words = [w for w in words if w not in stopwords.words(\"english\")]\n",
        "print(words)\n"
      ]
    },
    {
      "cell_type": "markdown",
      "metadata": {
        "id": "7774pfISMLDV"
      },
      "source": [
        "### *Stemming*"
      ]
    },
    {
      "cell_type": "code",
      "execution_count": 38,
      "metadata": {
        "colab": {
          "base_uri": "https://localhost:8080/"
        },
        "id": "D6I17Z26Mfmo",
        "outputId": "847d9e80-7cee-48f5-d33d-2f0cc7e006e1"
      },
      "outputs": [
        {
          "name": "stdout",
          "output_type": "stream",
          "text": [
            "['us', 'least', 'live', 'experienc', 'parent', 'holler', 'us', 'sit', 'idl', 'see', 'us', 'roam', 'around', 'unnecessarili', 'sit', 'without', 'work', 'seemingli', 'ask', 'better', 'thing', 'alway', 'take', 'unneed', 'scream', 'fail', 'realiz', 'deeper', 'mean', 'hold', 'life', 'spent', 'construct', 'work', 'life', 'well', 'spent', 'great', 'dramatist', 'shakespear', 'rightli', 'observ', 'life', 'measur', 'deed', 'year', 'age', 'criterion', 'mean', 'life', 'action', 'good', 'deed', 'give', 'mean', 'life', 'make', 'man', 'immort', 'long', 'life', 'desir', 'one', 'nobl', 'deed', 'life', 'worth', 'great', 'leader', 'like', 'mahatma', 'gandhi', 'lal', 'bahadur', 'shastri', 'abraham', 'lincoln', 'swami', 'vivekananda', 'mother', 'teresa', 'mani', 'other', 'rememb', 'even', 'mani', 'year', 'pass', 'peopl', 'still', 'take', 'inspir', 'lifestyl', 'preach', 'great', 'deed', 'leader', 'inspir', 'mani', 'gener', 'lili', 'flower', 'live', 'day', 'rememb', 'fragranc', 'sweet', 'respect', 'earn', 'action', 'acquir', 'year', 'exist', 'becom', 'excit', 'live', 'other', 'someth', 'benefici', 'mankind', 'gener', 'work', 'whole', 'day', 'earn', 'money', 'spend', 'need', 'common', 'thing', 'nobl', 'deed', 'well', 'share', 'smile', 'advic', 'cheer', 'help', 'fellow', 'be', 'thing', 'may', 'give', 'happi', 'may', 'rememb', 'us', 'around', 'henc', 'say', 'live', 'deed', 'year', 'prove', 'true']\n"
          ]
        }
      ],
      "source": [
        "# In our text we may find many words like playing, played, playfully, etc… which have a root word, play all of these convey the same meaning. \n",
        "# So we can just extract the root word and remove the rest. \n",
        "# Here the root word formed is called ‘stem’ and it is not necessarily that stem needs to exist and have a meaning. \n",
        "# Just by committing the suffix and prefix, we generate the stems.\n",
        "\n",
        "# NLTK provides us with PorterStemmer LancasterStemmer and SnowballStemmer packages.\n",
        "\n",
        "from nltk.stem.porter import PorterStemmer\n",
        "# Reduce words to their stems\n",
        "stemmed = [PorterStemmer().stem(w) for w in words]\n",
        "print(stemmed)"
      ]
    },
    {
      "cell_type": "markdown",
      "metadata": {
        "id": "lICmtqSZMOn4"
      },
      "source": [
        "### *Lemmatization*"
      ]
    },
    {
      "cell_type": "code",
      "execution_count": 39,
      "metadata": {
        "colab": {
          "base_uri": "https://localhost:8080/"
        },
        "id": "yXtDRHNnMgF7",
        "outputId": "fd247f99-c840-4e13-9ecc-2edbb2e3a878"
      },
      "outputs": [
        {
          "name": "stdout",
          "output_type": "stream",
          "text": [
            "['u', 'least', 'life', 'experienced', 'parent', 'hollering', 'u', 'sitting', 'idle', 'see', 'u', 'roaming', 'around', 'unnecessarily', 'sitting', 'without', 'work', 'seemingly', 'ask', 'better', 'thing', 'always', 'take', 'unneeded', 'screaming', 'fail', 'realize', 'deeper', 'meaning', 'hold', 'life', 'spent', 'constructive', 'work', 'life', 'well', 'spent', 'great', 'dramatist', 'shakespeare', 'rightly', 'observed', 'life', 'measured', 'deed', 'year', 'age', 'criterion', 'meaning', 'life', 'action', 'good', 'deed', 'give', 'meaning', 'life', 'make', 'man', 'immortal', 'long', 'life', 'desired', 'one', 'noble', 'deed', 'life', 'worth', 'great', 'leader', 'like', 'mahatma', 'gandhi', 'lal', 'bahadur', 'shastri', 'abraham', 'lincoln', 'swami', 'vivekananda', 'mother', 'teresa', 'many', 'others', 'remembered', 'even', 'many', 'year', 'passing', 'people', 'still', 'take', 'inspiration', 'lifestyle', 'preaching', 'great', 'deed', 'leader', 'inspired', 'many', 'generation', 'lily', 'flower', 'life', 'day', 'remembered', 'fragrance', 'sweetness', 'respect', 'earned', 'action', 'acquired', 'year', 'existence', 'becomes', 'exciting', 'lived', 'others', 'something', 'beneficial', 'mankind', 'generally', 'work', 'whole', 'day', 'earn', 'money', 'spend', 'need', 'common', 'thing', 'noble', 'deed', 'well', 'share', 'smile', 'advice', 'cheer', 'help', 'fellow', 'being', 'thing', 'may', 'give', 'happiness', 'may', 'remember', 'u', 'around', 'hence', 'saying', 'live', 'deed', 'year', 'prof', 'true']\n"
          ]
        }
      ],
      "source": [
        "# We want to extract the base form of the word here. \n",
        "# The word extracted here is called Lemma and it is available in the dictionary. \n",
        "# We have the WordNet corpus and the lemma generated will be available in this corpus. \n",
        "# NLTK provides us with the WordNet Lemmatizer that makes use of the WordNet Database to lookup lemmas of words.\n",
        "\n",
        "from nltk.stem.wordnet import WordNetLemmatizer\n",
        "# Reduce words to their root form\n",
        "lemmed = [WordNetLemmatizer().lemmatize(w) for w in words]\n",
        "print(lemmed)\n",
        "\n",
        "## NOTE: Stemming is much faster than lemmatization as it doesn’t need to lookup in the dictionary and just follows the algorithm to generate the root words."
      ]
    },
    {
      "cell_type": "markdown",
      "metadata": {
        "id": "ef9D3Z6wMWay"
      },
      "source": [
        "### *Part of Speech Tagger*"
      ]
    },
    {
      "cell_type": "code",
      "execution_count": 49,
      "metadata": {
        "colab": {
          "base_uri": "https://localhost:8080/"
        },
        "id": "RkWlNJFPMgp_",
        "outputId": "064aa523-6186-4f1d-ad78-890594d3bc70"
      },
      "outputs": [
        {
          "name": "stdout",
          "output_type": "stream",
          "text": [
            "[('us', 'PRP'), ('least', 'JJS'), ('lives', 'NNS'), ('experienced', 'VBD'), ('parents', 'NNS'), ('hollering', 'VBG'), ('us', 'PRP'), ('sitting', 'VBG'), ('idle', 'JJ'), ('see', 'VBP'), ('us', 'PRP'), ('roaming', 'VBG'), ('around', 'IN'), ('unnecessarily', 'RB'), ('sitting', 'VBG'), ('without', 'IN'), ('work', 'NN'), ('seemingly', 'RB'), ('ask', 'VB'), ('better', 'JJR'), ('things', 'NNS'), ('always', 'RB'), ('take', 'VBP'), ('unneeded', 'JJ'), ('screaming', 'NN'), ('fail', 'NN'), ('realize', 'VB'), ('deeper', 'IN'), ('meaning', 'NN'), ('holds', 'VBZ'), ('life', 'NN'), ('spent', 'JJ'), ('constructive', 'JJ'), ('work', 'NN'), ('life', 'NN'), ('well', 'RB'), ('spent', 'JJ'), ('great', 'JJ'), ('dramatist', 'NN'), ('shakespeare', 'NN'), ('rightly', 'RB'), ('observed', 'VBD'), ('life', 'NN'), ('measured', 'VBN'), ('deeds', 'NNS'), ('years', 'NNS'), ('age', 'NN'), ('criterion', 'NN'), ('meaning', 'VBG'), ('life', 'NN'), ('actions', 'NNS'), ('good', 'JJ'), ('deeds', 'NNS'), ('give', 'VBP'), ('meaning', 'VBG'), ('life', 'NN'), ('make', 'VBP'), ('man', 'NN'), ('immortal', 'NN'), ('long', 'JJ'), ('life', 'NN'), ('desired', 'VBD'), ('one', 'CD'), ('noble', 'JJ'), ('deeds', 'NNS'), ('life', 'NN'), ('worth', 'IN'), ('great', 'JJ'), ('leaders', 'NNS'), ('like', 'IN'), ('mahatma', 'NN'), ('gandhi', 'NN'), ('lal', 'NN'), ('bahadur', 'NN'), ('shastri', 'NN'), ('abraham', 'NN'), ('lincoln', 'NN'), ('swami', 'NN'), ('vivekananda', 'NN'), ('mother', 'NN'), ('teresa', 'VBD'), ('many', 'JJ'), ('others', 'NNS'), ('remembered', 'VBD'), ('even', 'RB'), ('many', 'JJ'), ('years', 'NNS'), ('passing', 'VBG'), ('people', 'NNS'), ('still', 'RB'), ('take', 'VBP'), ('inspiration', 'NN'), ('lifestyles', 'NNS'), ('preaching', 'VBG'), ('great', 'JJ'), ('deeds', 'NNS'), ('leaders', 'NNS'), ('inspired', 'VBD'), ('many', 'JJ'), ('generations', 'NNS'), ('lily', 'RB'), ('flower', 'VBP'), ('lives', 'NNS'), ('day', 'NN'), ('remembered', 'VBD'), ('fragrance', 'NN'), ('sweetness', 'NN'), ('respect', 'NN'), ('earned', 'VBN'), ('actions', 'NNS'), ('acquired', 'VBD'), ('years', 'NNS'), ('existence', 'NN'), ('becomes', 'VBZ'), ('exciting', 'VBG'), ('lived', 'VBD'), ('others', 'NNS'), ('something', 'NN'), ('beneficial', 'JJ'), ('mankind', 'NN'), ('generally', 'RB'), ('work', 'JJ'), ('whole', 'JJ'), ('day', 'NN'), ('earn', 'VB'), ('money', 'NN'), ('spend', 'NN'), ('needs', 'VBZ'), ('common', 'JJ'), ('things', 'NNS'), ('noble', 'JJ'), ('deeds', 'NNS'), ('well', 'RB'), ('share', 'NN'), ('smile', 'JJ'), ('advice', 'NN'), ('cheer', 'NN'), ('help', 'NN'), ('fellow', 'VB'), ('beings', 'NNS'), ('things', 'NNS'), ('may', 'MD'), ('give', 'VB'), ('happiness', 'NN'), ('may', 'MD'), ('remember', 'VB'), ('us', 'PRP'), ('around', 'IN'), ('hence', 'NN'), ('saying', 'VBG'), ('live', 'JJ'), ('deeds', 'NNS'), ('years', 'NNS'), ('proves', 'VBZ'), ('true', 'JJ')]\n"
          ]
        }
      ],
      "source": [
        "# Part of Speech tagging is used in text processing to avoid confusion between two same words that have different meanings. \n",
        "# With respect to the definition and context, we give each word a particular tag and process them. \n",
        "# Two Steps are used here:\n",
        "\n",
        "# Tokenize text (word_tokenize).\n",
        "# Apply the pos_tag from NLTK to the above step.\n",
        "\n",
        "# removing stop words from wordList.\n",
        "stop_words = set(stopwords.words('english'))\n",
        "\n",
        "\n",
        "# Using a Tagger. Which is part-of-speech\n",
        "# tagger or POS-tagger.\n",
        "wordsList = [w for w in wordsList if not w in stop_words]\n",
        "tagged = nltk.pos_tag(wordsList)\n",
        "print(tagged)"
      ]
    }
  ],
  "metadata": {
    "colab": {
      "collapsed_sections": [
        "5-08R9RRZX-3"
      ],
      "name": "19BCE1873_CSE4022_DA1&2.ipynb",
      "provenance": []
    },
    "kernelspec": {
      "display_name": "Python 3",
      "name": "python3"
    },
    "language_info": {
      "name": "python"
    }
  },
  "nbformat": 4,
  "nbformat_minor": 0
}
